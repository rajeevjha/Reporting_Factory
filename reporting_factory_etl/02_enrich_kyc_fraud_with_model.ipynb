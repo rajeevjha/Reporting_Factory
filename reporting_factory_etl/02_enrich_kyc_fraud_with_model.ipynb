{
 "cells": [
  {
   "cell_type": "code",
   "execution_count": 0,
   "metadata": {
    "application/vnd.databricks.v1+cell": {
     "cellMetadata": {},
     "inputWidgets": {},
     "nuid": "2eb46d46-2d90-441c-b520-61193be786e6",
     "showTitle": false,
     "tableResultSettingsMap": {},
     "title": ""
    }
   },
   "outputs": [],
   "source": [
    "import mlflow\n",
    "import pandas as pd\n",
    "\n",
    "model = mlflow.pyfunc.load_model(\"models:/kyc_fraud_model/Production\")\n",
    "df = spark.table(\"validated_passim\")\n",
    "pdf = df.toPandas()\n",
    "\n",
    "pdf[\"fraud_score\"] = model.predict(pdf)\n",
    "\n",
    "enriched_df = spark.createDataFrame(pdf)\n",
    "enriched_df.write.mode(\"overwrite\").saveAsTable(\"enriched_with_model\")"
   ]
  }
 ],
 "metadata": {
  "application/vnd.databricks.v1+notebook": {
   "computePreferences": null,
   "dashboards": [],
   "environmentMetadata": {
    "base_environment": "",
    "environment_version": "2"
   },
   "inputWidgetPreferences": null,
   "language": "python",
   "notebookMetadata": {
    "pythonIndentUnit": 4
   },
   "notebookName": "02_enrich_kyc_fraud_with_model",
   "widgets": {}
  },
  "language_info": {
   "name": "python"
  }
 },
 "nbformat": 4,
 "nbformat_minor": 0
}

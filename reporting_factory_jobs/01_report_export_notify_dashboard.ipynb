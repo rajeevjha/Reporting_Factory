{
 "cells": [
  {
   "cell_type": "markdown",
   "metadata": {
    "application/vnd.databricks.v1+cell": {
     "cellMetadata": {},
     "inputWidgets": {},
     "nuid": "5d4f2333-a956-43ca-8bd2-c33a5b4c785c",
     "showTitle": false,
     "tableResultSettingsMap": {},
     "title": ""
    }
   },
   "source": [
    "# 📊 Automated Report Export & Notification\n",
    "This notebook does the following:\n",
    "1. Reads Unity Catalog views\n",
    "2. Exports them to CSV (on DBFS)\n",
    "3. Sends notifications (to be scheduled via job)\n",
    "4. Adds manual guidance to link into dashboards"
   ]
  },
  {
   "cell_type": "code",
   "execution_count": 0,
   "metadata": {
    "application/vnd.databricks.v1+cell": {
     "cellMetadata": {
      "byteLimit": 2048000,
      "rowLimit": 10000
     },
     "inputWidgets": {},
     "nuid": "ea89f914-0bec-44e6-8e5d-b884309be096",
     "showTitle": false,
     "tableResultSettingsMap": {},
     "title": ""
    }
   },
   "outputs": [],
   "source": [
    "import json\n",
    "import requests\n",
    "from pyspark.sql import SparkSession\n",
    "spark = SparkSession.builder.getOrCreate()\n",
    "\n",
    "# Path to metadata file (DBFS or ADLS)\n",
    "metadata_path = \"abfss://kyc-data@reprotingfactorydl.dfs.core.windows.net/finance/kyc/metadata/report_definitions_prompt.json\"\n",
    "\n",
    "# Load metadata\n",
    "try:\n",
    "    metadata_df = spark.read.option(\"multiline\", \"true\").json(metadata_path)\n",
    "    reports = metadata_df.toJSON().map(json.loads).collect()\n",
    "except Exception as e:\n",
    "    raise Exception(f\"Failed to load metadata file: {metadata_path}. Error: {e}\")"
   ]
  },
  {
   "cell_type": "code",
   "execution_count": 0,
   "metadata": {
    "application/vnd.databricks.v1+cell": {
     "cellMetadata": {
      "byteLimit": 2048000,
      "rowLimit": 10000
     },
     "inputWidgets": {},
     "nuid": "19a2b08f-aff9-47ea-91b3-433a95e34981",
     "showTitle": false,
     "tableResultSettingsMap": {},
     "title": ""
    }
   },
   "outputs": [],
   "source": [
    "# Simulated email or Slack notification (replace with real APIs as applicable)\n",
    "def notify_users(report_name, channel=\"email\"):\n",
    "    if channel == \"slack\":\n",
    "        print(f\"[Slack] Report '{report_name}' is now available.\")\n",
    "    else:\n",
    "        print(f\"[Email] Report '{report_name}' generated and certified.\")"
   ]
  },
  {
   "cell_type": "code",
   "execution_count": 0,
   "metadata": {
    "application/vnd.databricks.v1+cell": {
     "cellMetadata": {
      "byteLimit": 2048000,
      "rowLimit": 10000
     },
     "inputWidgets": {},
     "nuid": "80fbcec1-a7d3-4f15-b6ae-82582fe3c09c",
     "showTitle": false,
     "tableResultSettingsMap": {},
     "title": ""
    }
   },
   "outputs": [],
   "source": [
    "# Define parameters\n",
    "report_views = [\n",
    "    \"finance.kyc_ml.fraud_summary_by_account_type\",\n",
    "    \"finance.kyc_ml.high_risk_summary\"\n",
    "]\n",
    "export_base_path = \"abfss://kyc-data@reprotingfactorydl.dfs.core.windows.net/finance/kyc/reports/\"\n",
    "export_format = \"csv\"  # or 'parquet' or 'json'\n",
    "send_email_to = [\"rajeevjha@aol.in\"]  # Placeholder"
   ]
  },
  {
   "cell_type": "code",
   "execution_count": 0,
   "metadata": {
    "application/vnd.databricks.v1+cell": {
     "cellMetadata": {
      "byteLimit": 2048000,
      "rowLimit": 10000
     },
     "inputWidgets": {},
     "nuid": "c6a7ef9b-d698-444d-a9fa-183759a12ec3",
     "showTitle": false,
     "tableResultSettingsMap": {},
     "title": ""
    }
   },
   "outputs": [],
   "source": [
    "# Export all views to DBFS\n",
    "for view in report_views:\n",
    "    df = spark.table(view)\n",
    "    name = view.split(\".\")[-1]\n",
    "    export_path = f\"{export_base_path}{name}.{export_format}\"\n",
    "    df.write.mode(\"overwrite\").option(\"header\", True).format(export_format).save(export_path)\n",
    "    print(f\"Exported {view} to {export_path}\")"
   ]
  },
  {
   "cell_type": "markdown",
   "metadata": {
    "application/vnd.databricks.v1+cell": {
     "cellMetadata": {},
     "inputWidgets": {},
     "nuid": "054c975b-a9fb-489c-8a9e-eef59da62e7c",
     "showTitle": false,
     "tableResultSettingsMap": {},
     "title": ""
    }
   },
   "source": [
    "## 📬 Placeholder for Email Notification\n",
    "_Note: You can use Databricks Jobs email notification, or integrate with SMTP using `smtplib` in a secure job._"
   ]
  },
  {
   "cell_type": "code",
   "execution_count": 0,
   "metadata": {
    "application/vnd.databricks.v1+cell": {
     "cellMetadata": {
      "byteLimit": 2048000,
      "rowLimit": 10000
     },
     "inputWidgets": {},
     "nuid": "953ed2d0-6450-4561-9237-198e5befe660",
     "showTitle": false,
     "tableResultSettingsMap": {},
     "title": ""
    }
   },
   "outputs": [],
   "source": [
    "# Loop through reports to simulate visual and notification steps\n",
    "for report in reports:\n",
    "    try:\n",
    "        print(f\"Dashboard tile for {report['report_name']} ready!\")\n",
    "        if report.get(\"certify\", False):\n",
    "            notify_users(report['report_name'], channel=\"email\")\n",
    "    except Exception as e:\n",
    "        print(f\"Error setting up dashboard for {report['report_name']}: {e}\")"
   ]
  },
  {
   "cell_type": "markdown",
   "metadata": {
    "application/vnd.databricks.v1+cell": {
     "cellMetadata": {},
     "inputWidgets": {},
     "nuid": "e80f15a0-7a2d-4d4a-882f-6ee192355639",
     "showTitle": false,
     "tableResultSettingsMap": {},
     "title": ""
    }
   },
   "source": [
    "## 📊 Manual Dashboard Creation Guide\n",
    "1. Open Databricks SQL → Create Dashboard\n",
    "2. Use above views as SQL sources (search by name)\n",
    "3. Create charts: bar, pie, KPI, etc.\n",
    "4. Save dashboard and schedule refresh/email\n",
    "\n",
    "**Tip**: Use `lineage.refresh_time` or tags to filter latest views"
   ]
  }
 ],
 "metadata": {
  "application/vnd.databricks.v1+notebook": {
   "computePreferences": null,
   "dashboards": [],
   "environmentMetadata": null,
   "inputWidgetPreferences": null,
   "language": "python",
   "notebookMetadata": {
    "pythonIndentUnit": 4
   },
   "notebookName": "01_report_export_notify_dashboard",
   "widgets": {}
  },
  "kernelspec": {
   "display_name": "Python 3",
   "language": "python",
   "name": "python3"
  },
  "language_info": {
   "name": "python"
  }
 },
 "nbformat": 4,
 "nbformat_minor": 0
}

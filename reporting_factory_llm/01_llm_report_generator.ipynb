{
 "cells": [
  {
   "cell_type": "markdown",
   "metadata": {
    "application/vnd.databricks.v1+cell": {
     "cellMetadata": {},
     "inputWidgets": {},
     "nuid": "5a5c5da2-38c9-4e27-b3a9-3f5d50fd977e",
     "showTitle": false,
     "tableResultSettingsMap": {},
     "title": ""
    }
   },
   "source": [
    "# 🤖 LLM-Based Report Generator\n",
    "This notebook reads report metadata and uses OpenAI (GPT-4) to generate SQL queries."
   ]
  },
  {
   "cell_type": "code",
   "execution_count": 0,
   "metadata": {
    "application/vnd.databricks.v1+cell": {
     "cellMetadata": {
      "byteLimit": 2048000,
      "rowLimit": 10000
     },
     "inputWidgets": {},
     "nuid": "81c003ed-ca65-42b7-98aa-1f2f19d66d39",
     "showTitle": false,
     "tableResultSettingsMap": {},
     "title": ""
    }
   },
   "outputs": [],
   "source": [
    "# Updated for openai>=1.0.0\n",
    "from openai import OpenAI\n",
    "import os\n",
    "import json\n",
    "from pyspark.sql import SparkSession\n",
    "\n",
    "# Set up Spark session\n",
    "spark = SparkSession.builder.getOrCreate()\n",
    "\n",
    "# Set up OpenAI client\n",
    "OPENAI_API_KEY = dbutils.secrets.get(scope=\"llm\", key=\"openai_api_key\")\n",
    "client = OpenAI(api_key=OPENAI_API_KEY)"
   ]
  },
  {
   "cell_type": "code",
   "execution_count": 0,
   "metadata": {
    "application/vnd.databricks.v1+cell": {
     "cellMetadata": {
      "byteLimit": 2048000,
      "rowLimit": 10000
     },
     "inputWidgets": {},
     "nuid": "ec678b9d-a506-4b99-b840-e65ac047423c",
     "showTitle": false,
     "tableResultSettingsMap": {},
     "title": ""
    }
   },
   "outputs": [],
   "source": [
    "# Path to metadata file (DBFS or ADLS)\n",
    "metadata_path = \"abfss://kyc-data@reprotingfactorydl.dfs.core.windows.net/finance/kyc/metadata/report_definitions_prompt.json\"\n",
    "\n",
    "# Load metadata\n",
    "try:\n",
    "    metadata_df = spark.read.option(\"multiline\", \"true\").json(metadata_path)\n",
    "    report_defs = metadata_df.toJSON().map(json.loads).collect()\n",
    "except Exception as e:\n",
    "    raise Exception(f\"Failed to load metadata file: {metadata_path}. Error: {e}\")"
   ]
  },
  {
   "cell_type": "code",
   "execution_count": 0,
   "metadata": {
    "application/vnd.databricks.v1+cell": {
     "cellMetadata": {
      "byteLimit": 2048000,
      "rowLimit": 10000
     },
     "inputWidgets": {},
     "nuid": "54e9634c-f033-4bc4-8238-4d6480bd2069",
     "showTitle": false,
     "tableResultSettingsMap": {},
     "title": ""
    }
   },
   "outputs": [],
   "source": [
    "# Load schema (simplified for this demo)\n",
    "schema = \"\"\"step (int), type (string), amount (double), isFraud (int), date (date)\"\"\"\n",
    "\n",
    "# Generate SQL from prompt using GPT-4\n",
    "for report in report_defs:\n",
    "    prompt = f\"\"\"\n",
    "You are a data analyst. Generate a SQL query for the following report request:\n",
    "Prompt: {report['prompt']}\n",
    "{schema}\n",
    "Use the table: finance.kyc_ml.customer_enriched.\n",
    "Return only valid SQL without explanation or markdown.\n",
    "\"\"\"\n",
    "    print(f\"Generating SQL for: {report['report_name']}\")\n",
    "\n",
    "    response = client.chat.completions.create(\n",
    "        model=\"gpt-4.1-nano\",\n",
    "        messages=[{\"role\": \"user\", \"content\": prompt}]\n",
    "    )\n",
    "\n",
    "    sql_code = response.choices[0].message.content\n",
    "    #print(f\"\\n--- SQL for {report['report_name']} ---\\n{sql_code}\\n\")\n",
    "    print(f\"\\n{sql_code}\\n\")\n",
    "\n",
    "    try:\n",
    "        spark.sql(f\"DROP TABLE IF EXISTS {report['report_name']}\")\n",
    "        spark.sql(sql_code)\n",
    "    except Exception as e:\n",
    "        raise Exception(f\"Error executing SQL for {report['report_name']}: {e}\")"
   ]
  }
 ],
 "metadata": {
  "application/vnd.databricks.v1+notebook": {
   "computePreferences": null,
   "dashboards": [],
   "environmentMetadata": null,
   "inputWidgetPreferences": null,
   "language": "python",
   "notebookMetadata": {
    "pythonIndentUnit": 4
   },
   "notebookName": "01_llm_report_generator",
   "widgets": {}
  },
  "kernelspec": {
   "display_name": "Python 3",
   "language": "python",
   "name": "python3"
  },
  "language_info": {
   "name": "python"
  }
 },
 "nbformat": 4,
 "nbformat_minor": 0
}

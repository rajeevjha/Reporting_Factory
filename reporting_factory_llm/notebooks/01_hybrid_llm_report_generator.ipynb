{
 "cells": [
  {
   "cell_type": "markdown",
   "metadata": {
    "application/vnd.databricks.v1+cell": {
     "cellMetadata": {},
     "inputWidgets": {},
     "nuid": "9223030c-3795-4814-8b7f-97aefbb6410c",
     "showTitle": false,
     "tableResultSettingsMap": {},
     "title": ""
    }
   },
   "source": [
    "# 💡 Hybrid Report Generator: Natural Language + Structured Metadata\n",
    "This notebook uses LLM (OpenAI-compatible) to generate Spark SQL views from both:\n",
    "- Natural Language (e.g. _\"Show average amount by account type\"_)\n",
    "- Structured metadata (dimensions, measures, filters)\n",
    "\n",
    "Each view is auto-tagged and ready to use in dashboards."
   ]
  },
  {
   "cell_type": "code",
   "execution_count": 0,
   "metadata": {
    "application/vnd.databricks.v1+cell": {
     "cellMetadata": {
      "byteLimit": 2048000,
      "rowLimit": 10000
     },
     "inputWidgets": {},
     "nuid": "74dba8cf-6897-4e79-88e9-76f410f0b1d0",
     "showTitle": false,
     "tableResultSettingsMap": {},
     "title": ""
    }
   },
   "outputs": [],
   "source": [
    "import json\n",
    "from datetime import datetime\n",
    "from openai import OpenAI\n",
    "\n",
    "# Set up OpenAI client\n",
    "OPENAI_API_KEY = dbutils.secrets.get(scope=\"llm\", key=\"openai_api_key\")\n",
    "client = OpenAI(api_key=OPENAI_API_KEY)"
   ]
  },
  {
   "cell_type": "code",
   "execution_count": 0,
   "metadata": {
    "application/vnd.databricks.v1+cell": {
     "cellMetadata": {
      "byteLimit": 2048000,
      "rowLimit": 10000
     },
     "inputWidgets": {},
     "nuid": "14099dbd-6851-44c0-8723-953194291c82",
     "showTitle": false,
     "tableResultSettingsMap": {},
     "title": ""
    }
   },
   "outputs": [],
   "source": [
    "# Path to metadata file (DBFS or ADLS)\n",
    "metadata_path = \"abfss://kyc-data@reprotingfactorydl.dfs.core.windows.net/finance/kyc/metadata/report_definitions_llm.json\"\n",
    "# Load metadata\n",
    "try:\n",
    "    metadata_df = spark.read.option(\"multiline\", \"true\").json(metadata_path)\n",
    "    report_defs = metadata_df.toJSON().map(json.loads).collect()\n",
    "except Exception as e:\n",
    "    raise Exception(f\"Failed to load metadata file: {metadata_path}. Error: {e}\")"
   ]
  },
  {
   "cell_type": "code",
   "execution_count": 0,
   "metadata": {
    "application/vnd.databricks.v1+cell": {
     "cellMetadata": {
      "byteLimit": 2048000,
      "rowLimit": 10000
     },
     "inputWidgets": {},
     "nuid": "084439c1-bde2-4292-85ec-ab83ff87670d",
     "showTitle": false,
     "tableResultSettingsMap": {},
     "title": ""
    }
   },
   "outputs": [],
   "source": [
    "# Hybrid prompt builder\n",
    "def build_prompt(report, schema):\n",
    "    schema_str = \", \".join([f\"{col['name']} ({col['type']})\" for col in schema])\n",
    "    if \"natural_language\" in report:\n",
    "        return f\"\"\"\n",
    "        You are a Spark SQL generator.\n",
    "        Query: {report['natural_language']}\n",
    "        Table: finance.kyc_ml.customer_enriched\n",
    "        Schema: {schema_str}\n",
    "        Return only valid SQL without explanation or markdown.\n",
    "        \"\"\"\n",
    "\n",
    "    dims = ', '.join(report.get(\"dimensions\", []))\n",
    "    meas = ', '.join(report.get(\"measures\", []))\n",
    "    filts = report.get(\"filters\", \"\")\n",
    "    return f\"\"\"\n",
    "        Generate a SQL query on finance.kyc_ml.customer_enriched with the following schema:{schema_str}\n",
    "        Dimensions: {dims}\n",
    "        Measures: {meas}\n",
    "        Filters: {filts}\n",
    "        Return only valid SQL without explanation or markdown.\n",
    "    \"\"\""
   ]
  },
  {
   "cell_type": "code",
   "execution_count": 0,
   "metadata": {
    "application/vnd.databricks.v1+cell": {
     "cellMetadata": {
      "byteLimit": 2048000,
      "rowLimit": 10000
     },
     "inputWidgets": {},
     "nuid": "162b28ad-48b8-4584-ba59-5f4f8f6e0f5a",
     "showTitle": false,
     "tableResultSettingsMap": {},
     "title": ""
    }
   },
   "outputs": [],
   "source": [
    "# Extract schema from source table\n",
    "source_df = spark.table(\"finance.kyc_ml.customer_enriched\")\n",
    "table_schema = source_df.schema.jsonValue()['fields']\n",
    "\n",
    "# Main loop to generate views from LLM-generated SQL\n",
    "for report in report_defs:\n",
    "    prompt = build_prompt(report, table_schema)\n",
    "\n",
    "    response = client.chat.completions.create(\n",
    "        model=\"gpt-4\",\n",
    "        messages=[{\"role\": \"user\", \"content\": prompt}]\n",
    "    )\n",
    "    generated_sql = response.choices[0].message.content.strip()\n",
    "    view_name = f\"finance.kyc_ml.{report['report_name']}\"\n",
    "    print(f\"Creating view: {view_name}\")\n",
    "    #print(f\"CREATE OR REPLACE VIEW {view_name} AS {generated_sql}\")\n",
    "\n",
    "    spark.sql(f\"CREATE OR REPLACE VIEW {view_name} AS {generated_sql}\")\n",
    "\n",
    "    spark.sql(f\"\"\"\n",
    "        ALTER VIEW {view_name}\n",
    "        SET TBLPROPERTIES (\n",
    "            'lineage.generated_by' = 'LLM',\n",
    "            'lineage.description' = '{report.get(\"natural_language\", report.get(\"description\", \"\"))}',\n",
    "            'lineage.created_at' = '{datetime.now().isoformat()}'\n",
    "        )\n",
    "    \"\"\")"
   ]
  }
 ],
 "metadata": {
  "application/vnd.databricks.v1+notebook": {
   "computePreferences": null,
   "dashboards": [],
   "environmentMetadata": null,
   "inputWidgetPreferences": null,
   "language": "python",
   "notebookMetadata": {
    "pythonIndentUnit": 4
   },
   "notebookName": "01_hybrid_llm_report_generator",
   "widgets": {}
  },
  "kernelspec": {
   "display_name": "Python 3",
   "language": "python",
   "name": "python3"
  },
  "language_info": {
   "name": "python"
  }
 },
 "nbformat": 4,
 "nbformat_minor": 0
}

{
 "cells": [
  {
   "cell_type": "markdown",
   "metadata": {
    "application/vnd.databricks.v1+cell": {
     "cellMetadata": {},
     "inputWidgets": {},
     "nuid": "5d4f2333-a956-43ca-8bd2-c33a5b4c785c",
     "showTitle": false,
     "tableResultSettingsMap": {},
     "title": ""
    }
   },
   "source": [
    "# 📊 Automated Report Export & Notification\n",
    "This notebook does the following:\n",
    "1. Reads Unity Catalog views\n",
    "2. Exports them to CSV (on DBFS)\n",
    "3. Sends notifications (to be scheduled via job)\n",
    "4. Adds manual guidance to link into dashboards"
   ]
  },
  {
   "cell_type": "code",
   "execution_count": 0,
   "metadata": {
    "application/vnd.databricks.v1+cell": {
     "cellMetadata": {},
     "inputWidgets": {},
     "nuid": "80fbcec1-a7d3-4f15-b6ae-82582fe3c09c",
     "showTitle": false,
     "tableResultSettingsMap": {},
     "title": ""
    }
   },
   "outputs": [],
   "source": [
    "# Define parameters\n",
    "report_views = [\n",
    "    \"finance.kyc_ml.fraud_summary_by_account_type\",\n",
    "    \"finance.kyc_ml.kyc_risk_summary\"\n",
    "]\n",
    "export_base_path = \"dbfs:/reports/\"\n",
    "export_format = \"csv\"  # or 'parquet' or 'json'\n",
    "send_email_to = [\"stakeholder@example.com\"]  # Placeholder"
   ]
  },
  {
   "cell_type": "code",
   "execution_count": 0,
   "metadata": {
    "application/vnd.databricks.v1+cell": {
     "cellMetadata": {},
     "inputWidgets": {},
     "nuid": "c6a7ef9b-d698-444d-a9fa-183759a12ec3",
     "showTitle": false,
     "tableResultSettingsMap": {},
     "title": ""
    }
   },
   "outputs": [],
   "source": [
    "# Export all views to DBFS\n",
    "for view in report_views:\n",
    "    df = spark.table(view)\n",
    "    name = view.split(\".\")[-1]\n",
    "    export_path = f\"{export_base_path}{name}.{export_format}\"\n",
    "    df.write.mode(\"overwrite\").option(\"header\", True).format(export_format).save(export_path)\n",
    "    print(f\"✅ Exported {view} to {export_path}\")"
   ]
  },
  {
   "cell_type": "markdown",
   "metadata": {
    "application/vnd.databricks.v1+cell": {
     "cellMetadata": {},
     "inputWidgets": {},
     "nuid": "054c975b-a9fb-489c-8a9e-eef59da62e7c",
     "showTitle": false,
     "tableResultSettingsMap": {},
     "title": ""
    }
   },
   "source": [
    "## 📬 Placeholder for Email Notification\n",
    "_Note: You can use Databricks Jobs email notification, or integrate with SMTP using `smtplib` in a secure job._"
   ]
  },
  {
   "cell_type": "code",
   "execution_count": 0,
   "metadata": {
    "application/vnd.databricks.v1+cell": {
     "cellMetadata": {},
     "inputWidgets": {},
     "nuid": "953ed2d0-6450-4561-9237-198e5befe660",
     "showTitle": false,
     "tableResultSettingsMap": {},
     "title": ""
    }
   },
   "outputs": [],
   "source": [
    "# Placeholder: Log report notification\n",
    "for email in send_email_to:\n",
    "    print(f\"📨 Would notify: {email} for reports {report_views}\")"
   ]
  },
  {
   "cell_type": "markdown",
   "metadata": {
    "application/vnd.databricks.v1+cell": {
     "cellMetadata": {},
     "inputWidgets": {},
     "nuid": "e80f15a0-7a2d-4d4a-882f-6ee192355639",
     "showTitle": false,
     "tableResultSettingsMap": {},
     "title": ""
    }
   },
   "source": [
    "## 📊 Manual Dashboard Creation Guide\n",
    "1. Open Databricks SQL → Create Dashboard\n",
    "2. Use above views as SQL sources (search by name)\n",
    "3. Create charts: bar, pie, KPI, etc.\n",
    "4. Save dashboard and schedule refresh/email\n",
    "\n",
    "**Tip**: Use `lineage.refresh_time` or tags to filter latest views"
   ]
  }
 ],
 "metadata": {
  "application/vnd.databricks.v1+notebook": {
   "computePreferences": null,
   "dashboards": [],
   "environmentMetadata": null,
   "inputWidgetPreferences": null,
   "language": "python",
   "notebookMetadata": {
    "pythonIndentUnit": 4
   },
   "notebookName": "report_export_notify_dashboard",
   "widgets": {}
  },
  "kernelspec": {
   "display_name": "Python 3",
   "language": "python",
   "name": "python3"
  },
  "language_info": {
   "name": "python"
  }
 },
 "nbformat": 4,
 "nbformat_minor": 0
}
